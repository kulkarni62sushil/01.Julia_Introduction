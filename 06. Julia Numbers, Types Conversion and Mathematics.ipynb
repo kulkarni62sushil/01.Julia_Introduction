{
 "cells": [
  {
   "cell_type": "markdown",
   "metadata": {},
   "source": [
    "\n",
    "<h1 style='color:blue'> 06. Julia Numbers, Types Conversion and Mathematics</h1>\n",
    "<hr style=\"border:2px solid grey\"> </hr>\n"
   ]
  },
  {
   "cell_type": "markdown",
   "metadata": {},
   "source": [
    "In this notebook, you'll learn about the different numbers used in Julia, how to convert from one data type to the other, and the mathematical operations supported in Julia."
   ]
  },
  {
   "cell_type": "markdown",
   "metadata": {},
   "source": [
    "## 6.1. Number Data Type in Julia\n"
   ]
  },
  {
   "cell_type": "markdown",
   "metadata": {},
   "source": [
    "Recall that from last notebook that\n",
    "\n",
    "* Integers, floating point numbers and complex numbers fall under Python numbers category. They are defined as int, float and complex classes in Python.\n",
    "\n",
    "* Integers and floating points are separated by the presence or absence of a decimal point. For instance, 5 is an integer whereas 5.0 is a floating-point number.\n",
    "\n",
    "* Complex numbers are written in the form, `x + yim`. Global constant *`im`* is used to represent complex number *`i`* where *`i`* is square root of *`-1`*. Also x is the real part and y is the imaginary part.\n",
    "\n",
    "* We can use the `typeof()` function to know which class a variable or a value belongs to. \n",
    "\n",
    "Let's look at an example:"
   ]
  },
  {
   "cell_type": "code",
   "execution_count": 12,
   "metadata": {},
   "outputs": [
    {
     "name": "stdout",
     "output_type": "stream",
     "text": [
      "Int64\n",
      "Float64\n",
      "Complex{Int64}\n"
     ]
    }
   ],
   "source": [
    "a = 10\n",
    "# type integer\n",
    "println(typeof(a)) \n",
    "\n",
    "# type float\n",
    "b=5.8\n",
    "println(typeof(b))  \n",
    "\n",
    "# type complex\n",
    "c = 6 + 3im\n",
    "println(typeof(c))  \n"
   ]
  },
  {
   "cell_type": "markdown",
   "metadata": {},
   "source": [
    "<hr style=\"border:2px solid grey\"> </hr>"
   ]
  },
  {
   "cell_type": "markdown",
   "metadata": {},
   "source": [
    "## 6.2. Type Conversion"
   ]
  },
  {
   "cell_type": "markdown",
   "metadata": {},
   "source": [
    "We can convert one type of number into another. "
   ]
  },
  {
   "cell_type": "markdown",
   "metadata": {},
   "source": [
    "### (1) Convert `Int` to `Float` using `convert()` function :"
   ]
  },
  {
   "cell_type": "code",
   "execution_count": 49,
   "metadata": {},
   "outputs": [
    {
     "name": "stdout",
     "output_type": "stream",
     "text": [
      " Convert 12 to float = 12.0\n"
     ]
    }
   ],
   "source": [
    "x=12\n",
    "xf = convert(Float64, x)\n",
    "println(\" Convert \",x,\" to float = \", xf)\n"
   ]
  },
  {
   "cell_type": "markdown",
   "metadata": {},
   "source": [
    "### (2) Convert `Float` to `Int` using `trunc()` or `floor()` function :"
   ]
  },
  {
   "cell_type": "code",
   "execution_count": 50,
   "metadata": {},
   "outputs": [
    {
     "name": "stdout",
     "output_type": "stream",
     "text": [
      " Convert 12.45 to int = 12\n"
     ]
    }
   ],
   "source": [
    "x=12.45\n",
    "xi=trunc(Int,x)\n",
    "println(\" Convert \", x, \" to int = \", xi)"
   ]
  },
  {
   "cell_type": "code",
   "execution_count": 51,
   "metadata": {},
   "outputs": [
    {
     "name": "stdout",
     "output_type": "stream",
     "text": [
      " Convert 12.98 to int = 12\n"
     ]
    }
   ],
   "source": [
    "# Alternatively\n",
    "x=12.98\n",
    "xi=floor(Int,x)\n",
    "println(\" Convert \", x, \" to int = \", xi)"
   ]
  },
  {
   "cell_type": "markdown",
   "metadata": {},
   "source": [
    "**NOTE** `convert()` function doesn't work while converting `float` to `int`"
   ]
  },
  {
   "cell_type": "markdown",
   "metadata": {},
   "source": [
    "Consider another example"
   ]
  },
  {
   "cell_type": "code",
   "execution_count": 48,
   "metadata": {},
   "outputs": [
    {
     "name": "stdout",
     "output_type": "stream",
     "text": [
      "a = -0.9876542100000001\n",
      "b = 0.9876542100000001\n"
     ]
    }
   ],
   "source": [
    "x=2.98765421\n",
    "y=2\n",
    "a=y-x\n",
    "println(\"a = \",a)\n",
    "\n",
    "b=x-trunc(Int, x)\n",
    "println(\"b = \", b)"
   ]
  },
  {
   "cell_type": "markdown",
   "metadata": {},
   "source": [
    "### (3) Convert `string` to `Int` using `parse()` function :"
   ]
  },
  {
   "cell_type": "code",
   "execution_count": 66,
   "metadata": {},
   "outputs": [
    {
     "name": "stdout",
     "output_type": "stream",
     "text": [
      "456 is string\n",
      "456 is an int\n",
      "Datatype of 456 is Int64"
     ]
    }
   ],
   "source": [
    "a = \"456\"\n",
    "  \n",
    "# prints the string \n",
    "println(a, \" is string\") \n",
    "\n",
    "b=parse(Int64, a)\n",
    "\n",
    "println(b, \" is an int\")\n",
    "# convert string to int\n",
    "# parsing the string to integer \n",
    "print(\"Datatype of \",b, \" is \",typeof(parse(Int64, a)))"
   ]
  },
  {
   "cell_type": "markdown",
   "metadata": {},
   "source": [
    "<hr style=\"border:2px solid grey\"> </hr>"
   ]
  },
  {
   "cell_type": "markdown",
   "metadata": {},
   "source": [
    "## 6.3. Mathematical Functions"
   ]
  },
  {
   "cell_type": "markdown",
   "metadata": {},
   "source": [
    "  ### 6.3.1.  - π :   Type `\\pi` TAB to insert the Unicode character"
   ]
  },
  {
   "cell_type": "code",
   "execution_count": 1,
   "metadata": {},
   "outputs": [
    {
     "data": {
      "text/plain": [
       "π = 3.1415926535897..."
      ]
     },
     "execution_count": 1,
     "metadata": {},
     "output_type": "execute_result"
    }
   ],
   "source": [
    "π"
   ]
  },
  {
   "cell_type": "code",
   "execution_count": 2,
   "metadata": {},
   "outputs": [
    {
     "data": {
      "text/plain": [
       "π = 3.1415926535897..."
      ]
     },
     "execution_count": 2,
     "metadata": {},
     "output_type": "execute_result"
    }
   ],
   "source": [
    "# One can write pi also \n",
    "pi"
   ]
  },
  {
   "cell_type": "code",
   "execution_count": 3,
   "metadata": {},
   "outputs": [
    {
     "name": "stdout",
     "output_type": "stream",
     "text": [
      "1.5707963267948966,1.0471975511965976,0.7853981633974483,0.5235987755982988\n"
     ]
    }
   ],
   "source": [
    "println(π/2,\",\",π/3,\",\",π/4,\",\",π/6)"
   ]
  },
  {
   "cell_type": "markdown",
   "metadata": {},
   "source": [
    " ### 6.3.2. Power of x"
   ]
  },
  {
   "cell_type": "code",
   "execution_count": 4,
   "metadata": {},
   "outputs": [
    {
     "name": "stdout",
     "output_type": "stream",
     "text": [
      "3 to power 4 is 81\n",
      "3 to power 0.5 is 1.7320508075688772\n"
     ]
    }
   ],
   "source": [
    "x=3\n",
    "n=4\n",
    "println(x,\" to power \",n, \" is \" , x^n)\n",
    "\n",
    "x=3\n",
    "n=1/2\n",
    "println(x,\" to power \",n, \" is \" , x^n)"
   ]
  },
  {
   "cell_type": "markdown",
   "metadata": {},
   "source": [
    " ### 6.3.3. The absolute value function"
   ]
  },
  {
   "cell_type": "code",
   "execution_count": 76,
   "metadata": {},
   "outputs": [
    {
     "name": "stdout",
     "output_type": "stream",
     "text": [
      "Absolute value of -5 is 5\n"
     ]
    }
   ],
   "source": [
    "x= -5\n",
    "println(\"Absolute value of \",x, \" is \", abs(x))\n"
   ]
  },
  {
   "cell_type": "markdown",
   "metadata": {},
   "source": [
    " ### 6.3.4. Signed function\n",
    "\n",
    "Returns 1 if x is equal to positive value, -1 if x is equal to negative value and 0 otherwise"
   ]
  },
  {
   "cell_type": "code",
   "execution_count": 80,
   "metadata": {},
   "outputs": [
    {
     "name": "stdout",
     "output_type": "stream",
     "text": [
      "1\n",
      "-1\n",
      "0\n"
     ]
    }
   ],
   "source": [
    "x=5\n",
    "println(sign(x))\n",
    "\n",
    "x=-5\n",
    "println(sign(x))\n",
    "\n",
    "x=0\n",
    "println(sign(x))"
   ]
  },
  {
   "cell_type": "markdown",
   "metadata": {},
   "source": [
    " ### 6.3.5. Square root of x"
   ]
  },
  {
   "cell_type": "code",
   "execution_count": 85,
   "metadata": {},
   "outputs": [
    {
     "name": "stdout",
     "output_type": "stream",
     "text": [
      " Square root of 5 is 2.23606797749979\n",
      "\n",
      " Square root of 5.45623 is 2.3358574442803652\n"
     ]
    }
   ],
   "source": [
    "x=5\n",
    "println(\" Square root of \", x, \" is \" , sqrt(x))\n",
    "println()\n",
    "\n",
    "x=5.45623\n",
    "println(\" Square root of \", x, \" is \" , sqrt(x))"
   ]
  },
  {
   "cell_type": "markdown",
   "metadata": {},
   "source": [
    " ### 6.3.6. Cube root of x"
   ]
  },
  {
   "cell_type": "code",
   "execution_count": 86,
   "metadata": {},
   "outputs": [
    {
     "name": "stdout",
     "output_type": "stream",
     "text": [
      " Square root of 9 is 2.080083823051904\n",
      "\n",
      " Square root of 5.45623 is 1.7604791653328453\n"
     ]
    }
   ],
   "source": [
    "x=9\n",
    "println(\" Square root of \", x, \" is \" , cbrt(x))\n",
    "println()\n",
    "\n",
    "x=5.45623\n",
    "println(\" Square root of \", x, \" is \" , cbrt(x))"
   ]
  },
  {
   "cell_type": "markdown",
   "metadata": {},
   "source": [
    " ### 6.3.7. Hypotenuse of right-angled triangle with other sides of length x and y\n"
   ]
  },
  {
   "cell_type": "code",
   "execution_count": 90,
   "metadata": {},
   "outputs": [
    {
     "name": "stdout",
     "output_type": "stream",
     "text": [
      " Hypotenuse of right angled triangle with sides 3 and 4 is 5.0\n"
     ]
    }
   ],
   "source": [
    "x=3\n",
    "y=4\n",
    "println(\" Hypotenuse of right angled triangle with sides \", x, \" and \", y, \" is \"  , hypot(x,y))"
   ]
  },
  {
   "cell_type": "markdown",
   "metadata": {},
   "source": [
    " ### 6.3.8. Natural exponential function at x"
   ]
  },
  {
   "cell_type": "code",
   "execution_count": 93,
   "metadata": {},
   "outputs": [
    {
     "name": "stdout",
     "output_type": "stream",
     "text": [
      " Exponential of 10 is 22026.465794806718\n"
     ]
    }
   ],
   "source": [
    "x=10\n",
    "println(\" Exponential of \", x, \" is \" , exp(x))\n"
   ]
  },
  {
   "cell_type": "markdown",
   "metadata": {},
   "source": [
    " ### 6.3.9. Natural logarithm of x"
   ]
  },
  {
   "cell_type": "code",
   "execution_count": 96,
   "metadata": {},
   "outputs": [
    {
     "name": "stdout",
     "output_type": "stream",
     "text": [
      " Natural log of 23 is 3.1354942159291497\n"
     ]
    }
   ],
   "source": [
    "x=23\n",
    "println(\" Natural log of \", x, \" is \" , log(x))"
   ]
  },
  {
   "cell_type": "markdown",
   "metadata": {},
   "source": [
    " ### 6.3.10. Logarithm of x with base b"
   ]
  },
  {
   "cell_type": "code",
   "execution_count": 98,
   "metadata": {},
   "outputs": [
    {
     "name": "stdout",
     "output_type": "stream",
     "text": [
      " Natural log of 33 is 2.5221970596792267\n"
     ]
    }
   ],
   "source": [
    "x=33\n",
    "b = 4 # base is b\n",
    "println(\" Natural log of \", x, \" is \" , log(b,x))"
   ]
  },
  {
   "cell_type": "code",
   "execution_count": 99,
   "metadata": {},
   "outputs": [
    {
     "data": {
      "text/plain": [
       "π = 3.1415926535897..."
      ]
     },
     "execution_count": 99,
     "metadata": {},
     "output_type": "execute_result"
    }
   ],
   "source": [
    "pi"
   ]
  },
  {
   "cell_type": "markdown",
   "metadata": {},
   "source": [
    " ### 6.3.11. Trignometric functions"
   ]
  },
  {
   "cell_type": "markdown",
   "metadata": {},
   "source": [
    "Julia has the 6 basic trigonometric functions defined through the functions `sin()`, `cos()`, `tan()`, `csc()`, `sec()`, and `cot()`.\n",
    "\n",
    "It is illustrate below:"
   ]
  },
  {
   "cell_type": "code",
   "execution_count": 116,
   "metadata": {},
   "outputs": [
    {
     "name": "stdout",
     "output_type": "stream",
     "text": [
      "sin(0)= 0.0\n",
      "cos(π/2)= 6.123233995736766e-17\n",
      "tan(π/3)= 1.7320508075688767\n",
      "sec(π/6)= 1.1547005383792515\n"
     ]
    }
   ],
   "source": [
    "# Here angle is in radian\n",
    "θ0= 0\n",
    "θ1= π/2\n",
    "θ2= π/3\n",
    "θ3= π/6\n",
    "println(\"sin(0)= \", sin(θ0))\n",
    "println(\"cos(π/2)= \", cos(θ1))\n",
    "println(\"tan(π/3)= \", tan(θ2))\n",
    "println(\"sec(π/6)= \", sec(θ3))"
   ]
  },
  {
   "cell_type": "code",
   "execution_count": 119,
   "metadata": {},
   "outputs": [
    {
     "name": "stdout",
     "output_type": "stream",
     "text": [
      "sind(0)= 0.0\n",
      "cosd(45)= 0.7071067811865476\n",
      "tand(30)= 0.5773502691896258\n",
      "cscd(60)= 1.1547005383792517\n"
     ]
    }
   ],
   "source": [
    "# Here angle is in degree\n",
    "θ0= 0\n",
    "θ1= 45\n",
    "θ2= 30\n",
    "θ3= 60\n",
    "println(\"sindd(0)= \", sind(θ0))\n",
    "println(\"cosd(45)= \", cosd(θ1))\n",
    "println(\"tand(30)= \", tand(θ2))\n",
    "println(\"cscd(60)= \", cscd(θ3))"
   ]
  },
  {
   "cell_type": "code",
   "execution_count": 125,
   "metadata": {},
   "outputs": [
    {
     "name": "stdout",
     "output_type": "stream",
     "text": [
      " sin(θ)^2 + cos(θ)^2 =  1.0000000000000002\n"
     ]
    }
   ],
   "source": [
    "# Check if sin(θ)^2 + cos(θ)^2 =1\n",
    "println(\" sin(θ)^2 + cos(θ)^2 =  \", sind(θ1)^2+cosd(θ1)^2)"
   ]
  },
  {
   "cell_type": "markdown",
   "metadata": {},
   "source": [
    "**NOTE** Similarly hyperbolic functions like  `sinh()`, `cosh()`,`tanh()`,`coth()`,`sech()`,`csch()` are defined in Julia\n",
    "\n",
    "\n",
    " \n"
   ]
  },
  {
   "cell_type": "markdown",
   "metadata": {},
   "source": [
    "<hr style=\"border:2px solid grey\"> </hr>\n"
   ]
  },
  {
   "cell_type": "code",
   "execution_count": null,
   "metadata": {},
   "outputs": [],
   "source": []
  }
 ],
 "metadata": {
  "kernelspec": {
   "display_name": "Julia 1.6.1",
   "language": "julia",
   "name": "julia-1.6"
  },
  "language_info": {
   "file_extension": ".jl",
   "mimetype": "application/julia",
   "name": "julia",
   "version": "1.6.1"
  },
  "toc": {
   "base_numbering": 1,
   "nav_menu": {},
   "number_sections": false,
   "sideBar": true,
   "skip_h1_title": false,
   "title_cell": "Table of Contents",
   "title_sidebar": "Contents",
   "toc_cell": false,
   "toc_position": {},
   "toc_section_display": true,
   "toc_window_display": false
  }
 },
 "nbformat": 4,
 "nbformat_minor": 4
}
