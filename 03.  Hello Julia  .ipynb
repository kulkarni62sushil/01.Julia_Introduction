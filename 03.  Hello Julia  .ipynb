{
 "cells": [
  {
   "cell_type": "markdown",
   "metadata": {},
   "source": [
    "\n",
    "<h1 style='color:blue'> 03. Hello Julia </h1>\n",
    "<hr style=\"border:2px solid grey\"> </hr>\n"
   ]
  },
  {
   "attachments": {
    "images.jpg": {
     "image/jpeg": "[encoded data removed]"
    }
   },
   "cell_type": "markdown",
   "metadata": {},
   "source": [
    "![images.jpg](attachment:images.jpg)"
   ]
  },
  {
   "cell_type": "markdown",
   "metadata": {},
   "source": [
    "## In this notebook, we cover :\n",
    "\n",
    "#### `3.1. print( ) Function`\n",
    "#### `3.2. println( ) Function`\n",
    "#### `3.3. show( ) Function`\n",
    "#### `3.4. print( ) with Escape Sequence`\n",
    "\n",
    "<hr style=\"border:2px solid grey\"> </hr>"
   ]
  },
  {
   "cell_type": "markdown",
   "metadata": {},
   "source": [
    "## **Introduction**\n",
    "\n",
    "To learn any programming language, one has to understand the syntax to display a message containing list of characters called string or variables or constants.\n",
    "\n",
    "A Julia program consists of one or more functions. A function has a name followed by a pair of parenthesis. A function is of two types: **(i)** Built in functions, **(ii)** User defined functions. \n",
    "\n",
    "Functions that readily comes with `Julia` are called built-in functions. `Julia` provides built-in functions like ```print()```, etc. but we can also create your own functions. These functions are known as user defines functions. \n",
    "\n",
    "Here we are going to see built in function to display a message. There are two ways: \n",
    " \n",
    "\n",
    "**1.** ```print( )```\n",
    "\n",
    "**2.** ```println( )```\n"
   ]
  },
  {
   "cell_type": "markdown",
   "metadata": {},
   "source": [
    "<hr style=\"border:2px solid grey\"> </hr>"
   ]
  },
  {
   "cell_type": "markdown",
   "metadata": {},
   "source": [
    "## 3.1. print( ) Function"
   ]
  },
  {
   "cell_type": "markdown",
   "metadata": {},
   "source": [
    "This function is used to displays a message on a screen, but does not do a line feed at the end. Let's consider examples"
   ]
  },
  {
   "cell_type": "markdown",
   "metadata": {},
   "source": [
    "**Example 1.**"
   ]
  },
  {
   "cell_type": "code",
   "execution_count": 1,
   "metadata": {},
   "outputs": [
    {
     "name": "stdout",
     "output_type": "stream",
     "text": [
      "Hello, Julia !"
     ]
    }
   ],
   "source": [
    "print(\"Hello, Julia !\")"
   ]
  },
  {
   "cell_type": "markdown",
   "metadata": {},
   "source": [
    "**Here**\n",
    "\n",
    "1. **`print()`** is a built in function that and tells the system to display message given in  the parentheses. print() tells Julia to display or output whatever we put in the parentheses.\n",
    "\n",
    "\n",
    "2. Inside the parentheses of the **`print()`** function is a sequence of characters — **Hello, Julia !** — that is enclosed in quotation marks  **`'`**  **`'`** or **`\"`**  **`\"`**. Any characters that are inside of quotation marks are called a **string**.\n",
    "\n",
    "\n",
    "3. To run the function, you can press **`shift`** and **`enter`** or **`Run`**"
   ]
  },
  {
   "cell_type": "markdown",
   "metadata": {},
   "source": [
    "**Example 2.**    Consider the following *`print( )`* function:"
   ]
  },
  {
   "cell_type": "code",
   "execution_count": 2,
   "metadata": {},
   "outputs": [
    {
     "name": "stdout",
     "output_type": "stream",
     "text": [
      "Hello, Julia !I'am excited to learn this Language"
     ]
    }
   ],
   "source": [
    "print(\"Hello, Julia !\")\n",
    "print(\"I'am excited to learn this Language\")"
   ]
  },
  {
   "cell_type": "markdown",
   "metadata": {},
   "source": [
    "**Here**\n",
    "\n",
    "Observe that we wrote two functions on different lines but we get display in same line. This means that after executing first function the cursor remains their and execute the next function. \n",
    "\n",
    "To get in different lines we consider **`println( )`** function "
   ]
  },
  {
   "cell_type": "markdown",
   "metadata": {},
   "source": [
    "<hr style=\"border:2px solid gray\"> </hr>"
   ]
  },
  {
   "cell_type": "markdown",
   "metadata": {},
   "source": [
    "## 3.2. println( ) Function"
   ]
  },
  {
   "cell_type": "markdown",
   "metadata": {},
   "source": [
    "The **`println( )`** method is used to display a message on a screen and does a line feed, forcing the cursor to the next line. Let's write above code again with **`println( ) `**"
   ]
  },
  {
   "cell_type": "markdown",
   "metadata": {},
   "source": [
    "**Example 3.** Using **`println( )`**:"
   ]
  },
  {
   "cell_type": "code",
   "execution_count": 3,
   "metadata": {},
   "outputs": [
    {
     "name": "stdout",
     "output_type": "stream",
     "text": [
      "Hello, Julia !\n",
      "I'am excited to learn this Language\n"
     ]
    }
   ],
   "source": [
    "println(\"Hello, Julia !\")\n",
    "println(\"I'am excited to learn this Language\")"
   ]
  },
  {
   "cell_type": "markdown",
   "metadata": {},
   "source": [
    "<hr style=\"border:2px solid gray\"> </hr>"
   ]
  },
  {
   "cell_type": "markdown",
   "metadata": {},
   "source": [
    "## 3.3. show( ) Function\n",
    "\n",
    "This function is an alternative to **`print( ) `** . Let's see the example"
   ]
  },
  {
   "cell_type": "markdown",
   "metadata": {},
   "source": [
    "**Example 4.** Using **`show( )`**:"
   ]
  },
  {
   "cell_type": "code",
   "execution_count": 4,
   "metadata": {},
   "outputs": [
    {
     "name": "stdout",
     "output_type": "stream",
     "text": [
      "\"Hello, Julia !\"\"I'am excited to learn this Language\""
     ]
    }
   ],
   "source": [
    "show(\"Hello, Julia !\")\n",
    "show(\"I'am excited to learn this Language\")"
   ]
  },
  {
   "cell_type": "markdown",
   "metadata": {},
   "source": [
    "<hr style=\"border:2px solid gray\"> </hr>"
   ]
  },
  {
   "cell_type": "markdown",
   "metadata": {},
   "source": [
    "## 3.4. `print( )` with Escape Sequence"
   ]
  },
  {
   "cell_type": "markdown",
   "metadata": {},
   "source": [
    "**Escape Sequence** consists of a backslash (\\) followed by one or more characters enclosed in quotation mark. Here we are going to see only one Escape sequence used for new line as **`\\n`**. Consider the following example. "
   ]
  },
  {
   "cell_type": "markdown",
   "metadata": {},
   "source": [
    "**Example 5.** Using Escape Sequence"
   ]
  },
  {
   "cell_type": "code",
   "execution_count": 5,
   "metadata": {},
   "outputs": [
    {
     "name": "stdout",
     "output_type": "stream",
     "text": [
      "Hello, Julia ! \n",
      "I'am excited to learn this Language"
     ]
    }
   ],
   "source": [
    "print(\"Hello, Julia ! \\n\")\n",
    "print(\"I'am excited to learn this Language\")"
   ]
  },
  {
   "cell_type": "markdown",
   "metadata": {},
   "source": [
    "Observe that, first function is **`print( )`** so **`Hello Julia !`** is printed and because of **`\\n`** the cursor goes to next line and execute next **`print( )`** function on subsequent line."
   ]
  },
  {
   "cell_type": "markdown",
   "metadata": {},
   "source": [
    "<hr style=\"border:2px solid gray\"> </hr>"
   ]
  },
  {
   "cell_type": "markdown",
   "metadata": {},
   "source": [
    "## 3.5. Examples"
   ]
  },
  {
   "cell_type": "markdown",
   "metadata": {},
   "source": [
    "**Example 1.** Print two blank lines between two messages "
   ]
  },
  {
   "cell_type": "code",
   "execution_count": 6,
   "metadata": {},
   "outputs": [
    {
     "name": "stdout",
     "output_type": "stream",
     "text": [
      "Hello, Julia !\n",
      "\n",
      "\n",
      "I'am excited to learn this Language"
     ]
    }
   ],
   "source": [
    "println(\"Hello, Julia !\")\n",
    "print(\"\\n\\nI'am excited to learn this Language\")"
   ]
  },
  {
   "cell_type": "code",
   "execution_count": 7,
   "metadata": {},
   "outputs": [
    {
     "ename": "LoadError",
     "evalue": "syntax: incomplete: premature end of input",
     "output_type": "error",
     "traceback": [
      "syntax: incomplete: premature end of input",
      "",
      "Stacktrace:",
      " [1] top-level scope",
      "   @ In[7]:1",
      " [2] eval",
      "   @ ./boot.jl:360 [inlined]",
      " [3] include_string(mapexpr::typeof(REPL.softscope), mod::Module, code::String, filename::String)",
      "   @ Base ./loading.jl:1094"
     ]
    }
   ],
   "source": [
    "Alternatively, "
   ]
  },
  {
   "cell_type": "code",
   "execution_count": 8,
   "metadata": {},
   "outputs": [
    {
     "name": "stdout",
     "output_type": "stream",
     "text": [
      "Hello, Julia !\n",
      "\n",
      "I'am excited to learn this Language"
     ]
    }
   ],
   "source": [
    "print(\"Hello, Julia !\\n\\n\")\n",
    "print(\"I'am excited to learn this Language\")"
   ]
  },
  {
   "cell_type": "markdown",
   "metadata": {},
   "source": [
    "With **two** **`\\n`** at the end of the message in **`print( )`**, we get only one blank line. To get two blank lines we have to write **three** **`\\n`** at the end of the message."
   ]
  },
  {
   "cell_type": "code",
   "execution_count": 9,
   "metadata": {},
   "outputs": [
    {
     "name": "stdout",
     "output_type": "stream",
     "text": [
      "Hello, Julia !\n",
      "\n",
      "\n",
      "I'am excited to learn this Language"
     ]
    }
   ],
   "source": [
    "print(\"Hello, Julia !\\n\\n\\n\")\n",
    "print(\"I'am excited to learn this Language\")\n"
   ]
  },
  {
   "cell_type": "markdown",
   "metadata": {},
   "source": [
    "**Example 2.** Display `Jan` to `Dec`on different lines with only one **`print( )`**."
   ]
  },
  {
   "cell_type": "code",
   "execution_count": 10,
   "metadata": {},
   "outputs": [
    {
     "name": "stdout",
     "output_type": "stream",
     "text": [
      "Jan\n",
      "Feb\n",
      "Mar\n",
      "Apr\n",
      "May\n",
      "Jun\n",
      "Jul\n",
      "Aug\n",
      "Sep\n",
      "Oct\n",
      "Nov\n",
      "Dec"
     ]
    }
   ],
   "source": [
    "print(\"Jan\\nFeb\\nMar\\nApr\\nMay\\nJun\\nJul\\nAug\\nSep\\nOct\\nNov\\nDec\")"
   ]
  },
  {
   "cell_type": "markdown",
   "metadata": {},
   "source": [
    "**Exampe 3.** Display **I want `\\\\n` to be printed** and on the next line **I'm very *happy*** "
   ]
  },
  {
   "cell_type": "code",
   "execution_count": 11,
   "metadata": {},
   "outputs": [
    {
     "name": "stdout",
     "output_type": "stream",
     "text": [
      "I want \\n to be printed.\n",
      "I'm very *happy*"
     ]
    }
   ],
   "source": [
    "println(\"I want \\\\n to be printed.\")\n",
    "print(\"I'm very *happy*\")"
   ]
  },
  {
   "cell_type": "markdown",
   "metadata": {},
   "source": [
    "<hr style=\"border:2px solid gray\"> </hr>"
   ]
  },
  {
   "cell_type": "markdown",
   "metadata": {},
   "source": [
    "## Exercise"
   ]
  },
  {
   "cell_type": "markdown",
   "metadata": {},
   "source": [
    "**1.** Display **Hello World !!** "
   ]
  },
  {
   "cell_type": "markdown",
   "metadata": {},
   "source": [
    "**2.** Display **Hello** and **World !!** on different lines without **`\\n`**"
   ]
  },
  {
   "cell_type": "markdown",
   "metadata": {},
   "source": [
    "**3.** Keep three blank lines between **Hello** and **World !!** "
   ]
  },
  {
   "cell_type": "markdown",
   "metadata": {},
   "source": [
    "**4.** Display Monday to Sunday by incrementing a blank before each day as shown below"
   ]
  },
  {
   "cell_type": "markdown",
   "metadata": {},
   "source": [
    "Monday\n",
    " Tuesday\n",
    "  Wednesday\n",
    "   Thursday\n",
    "    Friday\n",
    "     Saturday\n",
    "      Sunday"
   ]
  },
  {
   "cell_type": "markdown",
   "metadata": {},
   "source": [
    "<hr style=\"border:2px solid gray\"> </hr>"
   ]
  }
 ],
 "metadata": {
  "kernelspec": {
   "display_name": "Julia 1.6.1",
   "language": "julia",
   "name": "julia-1.6"
  },
  "language_info": {
   "file_extension": ".jl",
   "mimetype": "application/julia",
   "name": "julia",
   "version": "1.6.1"
  },
  "toc": {
   "base_numbering": 1,
   "nav_menu": {},
   "number_sections": false,
   "sideBar": true,
   "skip_h1_title": false,
   "title_cell": "Table of Contents",
   "title_sidebar": "Contents",
   "toc_cell": false,
   "toc_position": {},
   "toc_section_display": true,
   "toc_window_display": false
  }
 },
 "nbformat": 4,
 "nbformat_minor": 4
}
