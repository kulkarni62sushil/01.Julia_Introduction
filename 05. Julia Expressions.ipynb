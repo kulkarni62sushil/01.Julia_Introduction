{
 "cells": [
  {
   "cell_type": "markdown",
   "metadata": {},
   "source": [
    "<h1 style='color:blue'> 05. Julia Expressions </h1>\n",
    "<hr style=\"border:2px solid grey\"> </hr>"
   ]
  },
  {
   "cell_type": "markdown",
   "metadata": {},
   "source": [
    "## Introduction \n",
    "\n",
    "Now you are familiar with different data types used in Julia. This notebook will give you brief idea about different operators and expressions used in Julia. You will also learn the important concept called type casting used in an expression in Julia. So let us start with operators and expressions.\n",
    "\n",
    "In this notebook we will learn:\n",
    "\n",
    "- 5.1. Operators and Expressions\n",
    "- 5.2. Arithmetic Operators\n",
    "- 5.3. Assignment Operator\n",
    "- 5.4. Compound assignment statement\n",
    "- 5.5. Relational Operators\n",
    "- 5.6. Logical Operators\n",
    "- 5.7. Bitwise operators\n",
    "\n",
    "\n",
    "<hr style=\"border:2px solid grey\"> </hr>\n",
    "\n",
    "\n"
   ]
  },
  {
   "cell_type": "markdown",
   "metadata": {},
   "source": [
    "## 5.1. Operators and Expressions"
   ]
  },
  {
   "cell_type": "markdown",
   "metadata": {},
   "source": [
    "**Operator:** It is a symbol, which represents a particular action performed on some data. The data is called as operand and an action is called operator. Thus operator thus operates on operand. For example, if you consider `x + y - 2` then `x`, `y` are two **operands** and `+`, `-` are two **operators.**"
   ]
  },
  {
   "cell_type": "markdown",
   "metadata": {},
   "source": [
    "**Expressions:** It is a combination of constants and variables together with the operators. An expression that contains only constants is called a constant expression.\n",
    "\n",
    "There are various operators available in Julia to use in the program for handling different expressions. They can be classified as:\n",
    "\n",
    "  **o**  Arithmetic operators\n",
    "  \n",
    "  **o**  Increment and decrement operators\n",
    "  \n",
    "  **o**\t Relational operators\n",
    "  \n",
    "  **o**\t Logical operators\n",
    "  \n",
    "  **o**\t Assignment operators\n",
    "\n",
    "<hr style=\"border:2px solid grey\"> </hr>"
   ]
  },
  {
   "cell_type": "markdown",
   "metadata": {},
   "source": [
    "## 5.2. Arithmetic Operators"
   ]
  },
  {
   "cell_type": "markdown",
   "metadata": {},
   "source": [
    "We are all familiar with these operators as we learn them from 1 st standard. These operators are tabulated in following table:\n"
   ]
  },
  {
   "attachments": {
    "image.png": {
     "image/png": "[encoded data removed]"
    }
   },
   "cell_type": "markdown",
   "metadata": {},
   "source": [
    "![image.png](attachment:image.png)"
   ]
  },
  {
   "cell_type": "markdown",
   "metadata": {},
   "source": [
    "An expression which holds arithmetic operators are termed as arithmetic expression For example,\n",
    "\n",
    "**(i)**\t    deposit + interest\n",
    "\n",
    "**(ii)**\tprice – discount\n",
    "\n",
    "**(iii)**\tx + y - z\n"
   ]
  },
  {
   "cell_type": "markdown",
   "metadata": {},
   "source": [
    "**Example 1.** Following is the code which demonstrates various arithmetic expressions with two variables which are integers."
   ]
  },
  {
   "cell_type": "code",
   "execution_count": 1,
   "metadata": {},
   "outputs": [
    {
     "name": "stdout",
     "output_type": "stream",
     "text": [
      "17\n",
      "3\n",
      "70\n",
      "1.4285714285714286\n",
      "3\n"
     ]
    }
   ],
   "source": [
    "x=10     \n",
    "y = 7\n",
    "println(x + y)  # Addition \n",
    "println(x - y)   #  Subtraction \n",
    "println(x * y)   # Multiplivcation \n",
    "println(x / y)   # Division \n",
    "println(x % y)  # Remainder\n"
   ]
  },
  {
   "cell_type": "markdown",
   "metadata": {},
   "source": [
    "#### **NOTE** "
   ]
  },
  {
   "cell_type": "markdown",
   "metadata": {},
   "source": [
    "**(1) integer divide** :  x / y means truncated to an integer. `÷` (`\\div<tab>`) symbol is used in Julia."
   ]
  },
  {
   "cell_type": "code",
   "execution_count": 2,
   "metadata": {},
   "outputs": [
    {
     "data": {
      "text/plain": [
       "1"
      ]
     },
     "execution_count": 2,
     "metadata": {},
     "output_type": "execute_result"
    }
   ],
   "source": [
    "x ÷ y"
   ]
  },
  {
   "cell_type": "markdown",
   "metadata": {},
   "source": [
    "**(2) power**: raises `x` to the `y`th power. `^` is used as a symbol."
   ]
  },
  {
   "cell_type": "code",
   "execution_count": 3,
   "metadata": {},
   "outputs": [
    {
     "data": {
      "text/plain": [
       "10000000"
      ]
     },
     "execution_count": 3,
     "metadata": {},
     "output_type": "execute_result"
    }
   ],
   "source": [
    "x^y"
   ]
  },
  {
   "cell_type": "markdown",
   "metadata": {},
   "source": [
    "**Example 2.** Next code demonstrates various arithmetic expressions with one variable as int type and another as float."
   ]
  },
  {
   "cell_type": "code",
   "execution_count": 4,
   "metadata": {},
   "outputs": [
    {
     "name": "stdout",
     "output_type": "stream",
     "text": [
      "x + y = 12.52\n",
      "x - y = -2.5199999999999996\n",
      "x * y =37.599999999999994\n",
      "x / y = 0.6648936170212766\n",
      "x % y =5.0\n"
     ]
    }
   ],
   "source": [
    "x=5     \n",
    "y = 7.52\n",
    "println(\"x + y = \", x + y)  # Addition \n",
    "println(\"x - y = \", x - y)   #  Subtraction \n",
    "println(\"x * y =\" , x * y)   # Multiplivcation \n",
    "println(\"x / y = \",x / y)   # Division \n",
    "println(\"x % y =\", x % y)  # Remainder"
   ]
  },
  {
   "cell_type": "markdown",
   "metadata": {},
   "source": [
    "## 5.3. Assignment Operator"
   ]
  },
  {
   "cell_type": "markdown",
   "metadata": {},
   "source": [
    "It is used to assign the result of an expression to a variable. In other words `=` operator is used to assign the value of the right-hand side expression to the single variable on the left-hand side. It is in the form:\n",
    "\n",
    "*`Variable = expression`*\n",
    "\n",
    "The statement is called **assignment statement**. \n",
    "\n",
    "Following are few examples,\n",
    "\n",
    "*`(i)\tx = y + z`*\n",
    "*`(ii)\tx = y + 2`*\n",
    "*`(iii)\ta = b * c + d / 2`*\n",
    "\n",
    "The rule for writing assignment statement is that there should be only one variable on the left hand side of `=`. For instance *`x = y + 2`* is valid but *`y + 2 = x`* is not valid\n",
    " \n",
    "The assignment statements of *`x = y`* and *`y = x`* produces different results. *`x = y`* assigns the value of *`y`* to *`x`* and *`y = x`* assigns the value of *`x`* to *`y`*. For instance, if we take *`x =1`* and *`y = 2`* then *`x = y`* gives *`x = 2`* and *`y = x`* gives *`y = 1`*.\n",
    "\n",
    "Let us consider another assignment statement\n",
    "\n",
    "*`sum = sum + x`*\n",
    "\n",
    "This adds the value of the variable *`x`* to current value of variable *`sum`* and the result is assigned as the new value of the variable *`sum`*. For instance if *`sum = 5`* and *`x = 4`* then *`sum = sum + x`* gives *`sum = 5 + 4`* i.e. *`sum = 9`*.\n",
    "\n"
   ]
  },
  {
   "cell_type": "markdown",
   "metadata": {},
   "source": [
    "**Example 3.** Write Julia code to interchange values of two variables."
   ]
  },
  {
   "cell_type": "code",
   "execution_count": 5,
   "metadata": {},
   "outputs": [
    {
     "name": "stdout",
     "output_type": "stream",
     "text": [
      "Before Interchange\n",
      "x = 4\n",
      "y = 6\n",
      "___________________\n",
      "After Interchange\n",
      "x = 6\n",
      "y = 4\n"
     ]
    }
   ],
   "source": [
    "x=4 # Assign 4 to x\n",
    "y=6 # Assign 6 to y\n",
    "println(\"Before Interchange\")\n",
    "# Display before interchange\n",
    "println(\"x = \",x) \n",
    "println(\"y = \",y)\n",
    "t=x\n",
    "x=y\n",
    "y=t\n",
    "println(\"___________________\")\n",
    "println(\"After Interchange\")\n",
    "println(\"x = \",x)\n",
    "println(\"y = \",y)\n"
   ]
  },
  {
   "cell_type": "markdown",
   "metadata": {},
   "source": [
    "<hr style=\"border:2px solid grey\"> </hr>"
   ]
  },
  {
   "cell_type": "markdown",
   "metadata": {},
   "source": [
    "## 5.4. Compound assignment statement\n"
   ]
  },
  {
   "cell_type": "markdown",
   "metadata": {},
   "source": [
    "Consider the assignment statement *`x = x + 1`*. It computes the expression on the right hand side and assigns its value to the variable on the left hand side. This statement can be alternatively written as *`x + = 1`*\n",
    "\n",
    "*`+ =`* is called **compound assignment operator**. It first adds to the current value of *`x`* and then assigns this new value to *`x`*. \n",
    "\n",
    "Some compound assignment operators are:\n",
    "\n",
    "*`+ = , - =  , * = , / = , % =`*\n",
    "\n",
    "Following table gives the meaning of these compound assignment operators.\n"
   ]
  },
  {
   "cell_type": "markdown",
   "metadata": {},
   "source": [
    "Compound assignment operator| Expression | Meaning\n",
    ":-------------------|:---------------:|--------------------:\n",
    "*` + = `*       | *`a+=2`*   | *`a=a+2`*\n",
    "*` - = `*       | *`a-=3`*   | *`a=a-3`*\n",
    "*` * = `*       | **`a*=(b+c)`**   | **`a=a*(b+c)`**\n",
    "*` / = `*       | *`a/=(b+4)`*   | *`a=a/(b+4)`*\n",
    "*` % = `*       | *`a%=12`*   | *`a=a%12`*\n"
   ]
  },
  {
   "cell_type": "markdown",
   "metadata": {},
   "source": [
    "**Example 4.** Let us try above compound assignment operators"
   ]
  },
  {
   "cell_type": "code",
   "execution_count": 33,
   "metadata": {},
   "outputs": [
    {
     "name": "stdout",
     "output_type": "stream",
     "text": [
      "a =7\n",
      "a =10\n",
      "a =170\n",
      "a =14.166666666666666\n",
      "a =0.16666666666666607\n"
     ]
    }
   ],
   "source": [
    "a=5\n",
    "b=7\n",
    "c=10\n",
    "a+=2\n",
    "println(\"a =\",a)\n",
    "a+=3\n",
    "println(\"a =\",a)\n",
    "a*=(b+c)\n",
    "println(\"a =\",a)\n",
    "a/=(b+5)\n",
    "println(\"a =\",a)\n",
    "a%=7\n",
    "println(\"a =\",a)"
   ]
  },
  {
   "cell_type": "markdown",
   "metadata": {},
   "source": [
    "<hr style=\"border:2px solid grey\"> </hr>"
   ]
  },
  {
   "cell_type": "markdown",
   "metadata": {},
   "source": [
    "## 5.5. Relational Operators"
   ]
  },
  {
   "cell_type": "markdown",
   "metadata": {},
   "source": [
    "They are used to compare two operands to check whether they are equal, unequal or one is less than or greater than other.\n",
    "\n",
    "Julia provides six relational operators for comparing the values of two expressions and expression so formed is called a **relational expression**.\n",
    "\n",
    "The relational operators for these operations are given in the following table:\n"
   ]
  },
  {
   "cell_type": "markdown",
   "metadata": {},
   "source": [
    "Operators| Operations\n",
    ":-------------------|:---------------:|\n",
    "*`< `*       | *`Less than`*   | \n",
    "*`> `*       | *`Greater than`*   | \n",
    "*` * == `*       | *`Equal`*   | \n",
    "*` ! = `*       | *`Not equal`*   | \n",
    "*` >= `*       | *`Greater than or equal to`*   |\n",
    "*` <= `*       | *`Less than or equal to`*   |"
   ]
  },
  {
   "cell_type": "markdown",
   "metadata": {},
   "source": [
    "These operators can be applied to any data items. A relational expression in Julia is written in the form:\n",
    "\n",
    "*`operand operator operand`*\n",
    "\n",
    "When evaluated, it returns result *`True`* or *`False`*. Recall that in Julia, *`True`*  means *`1`* or *`non zero`* and *`False`* means *`0`* or *`Zero`*. Following program illustrate this rule\n",
    "\n"
   ]
  },
  {
   "cell_type": "markdown",
   "metadata": {},
   "source": [
    "**Example 5.** Demonstration of relational operators"
   ]
  },
  {
   "cell_type": "code",
   "execution_count": 1,
   "metadata": {},
   "outputs": [
    {
     "name": "stdout",
     "output_type": "stream",
     "text": [
      "true\n",
      "false\n"
     ]
    }
   ],
   "source": [
    "x=10\n",
    "y=5\n",
    "a= ( x >= y)\n",
    "println(a) \n",
    "\n",
    "a= ( x <= y);\n",
    "println(a) \n"
   ]
  },
  {
   "cell_type": "markdown",
   "metadata": {},
   "source": [
    "<hr style=\"border:2px solid grey\"> </hr>"
   ]
  },
  {
   "cell_type": "markdown",
   "metadata": {},
   "source": [
    "## 5.6. Logical Operators"
   ]
  },
  {
   "cell_type": "markdown",
   "metadata": {},
   "source": [
    "Computer hardware works on binary numbers system. The Boolean algebra is the backbone of binary number system. Logical operators are defined in Boolean algebra. Logical operators are used in Julia. There are three logical operators, namely NOT, AND and OR as shown in the table given below. These are used in conjunction with relational expressions and logical variables to form logical expression.\n"
   ]
  },
  {
   "attachments": {
    "Screenshot%202021-11-08%20at%208.26.15%20PM.png": {
     "image/png": "[encoded data removed]"
    }
   },
   "cell_type": "markdown",
   "metadata": {},
   "source": [
    "\n",
    "\n",
    "\n",
    "\n",
    "![Screenshot%202021-11-08%20at%208.26.15%20PM.png](attachment:Screenshot%202021-11-08%20at%208.26.15%20PM.png)"
   ]
  },
  {
   "cell_type": "markdown",
   "metadata": {},
   "source": [
    "The logical *`&&`* and *`||`* are binary operators and *`!`* is unary operator.\n",
    "The value of a logical expression is 1 or 0 and called **truth** value, depending upon the logical values of the operands. The operands may be of any arithmetic type."
   ]
  },
  {
   "cell_type": "markdown",
   "metadata": {},
   "source": [
    "**Example 6.** Demonstration of Logical operators"
   ]
  },
  {
   "cell_type": "code",
   "execution_count": 9,
   "metadata": {},
   "outputs": [
    {
     "name": "stdout",
     "output_type": "stream",
     "text": [
      "false\n",
      "true\n",
      "false\n"
     ]
    }
   ],
   "source": [
    "a = true\n",
    "b = false\n",
    "  \n",
    "# Print if a and b both are False\n",
    "println(a && b)\n",
    "  \n",
    "# Print if a or b is True\n",
    "println(a || b)\n",
    "  \n",
    "# Print if not a is False\n",
    "println(! a)"
   ]
  },
  {
   "cell_type": "markdown",
   "metadata": {},
   "source": [
    "<hr style=\"border:2px solid grey\"> </hr>"
   ]
  },
  {
   "cell_type": "markdown",
   "metadata": {},
   "source": [
    "## 5.7. Bitwise operators"
   ]
  },
  {
   "cell_type": "markdown",
   "metadata": {},
   "source": [
    "Julia uses following bitwise operators. These operators can be applied to all different types of integers. These operators are applied to the individual bits.\n",
    "\n"
   ]
  },
  {
   "attachments": {
    "Screenshot%202021-11-10%20at%208.28.00%20AM.png": {
     "image/png": "[encoded data removed]"
    }
   },
   "cell_type": "markdown",
   "metadata": {},
   "source": [
    "\n",
    "\n",
    "![Screenshot%202021-11-10%20at%208.28.00%20AM.png](attachment:Screenshot%202021-11-10%20at%208.28.00%20AM.png)\n",
    "\n"
   ]
  },
  {
   "cell_type": "markdown",
   "metadata": {},
   "source": [
    "Data is stored internally in binary form. A bit can have a value 0 or 1.One byte is equivalent to 8 bits. Decimal numbers can be converted into binary form. For example, the byte value for 15 in binary is *`00001111`*\n",
    "\n",
    "Jula uses encoding known as two’s complement, which means that the negative numbers are represented by inverting (changing 1’s to 0’s and vice versa) all of the bits in a value, then adding 1 to the result. For example, inverting all the bits in *`15`* or *`00001111`*, which yields *`11110000`* and adding *`1`* i.e.*`00000001`*, which gives *`11110001`*, represents *`-15`*.\n",
    "Data is stored internally in binary form. A bit can have a value *`0`* or *`1`*. One byte is equivalent to 8 bits. Decimal numbers can be converted into binary form. For example, the byte value for *`15`* in binary is *`00001111`* \n",
    "\n",
    "Jula uses encoding known as two’s complement, which means that the negative numbers are represented by inverting (changing 1’s to 0’s and vice versa) all of the bits in a value, then adding 1 to the result. For example, inverting all the bits in *`15`* or *`00001111`*, which yields *`11110000`* and adding *`1`* i.e.*`00000001`*, which gives *`11110001`*, represents *`-15`*.\n"
   ]
  },
  {
   "attachments": {
    "Screenshot%202021-11-10%20at%208.35.43%20AM.png": {
     "image/png": "[encoded data removed]"
    }
   },
   "cell_type": "markdown",
   "metadata": {},
   "source": [
    "Following table shows the outcome of each operation:\n",
    "\n",
    "\n",
    "\n",
    "![Screenshot%202021-11-10%20at%208.35.43%20AM.png](attachment:Screenshot%202021-11-10%20at%208.35.43%20AM.png)"
   ]
  },
  {
   "attachments": {
    "Screenshot%202021-11-10%20at%208.50.49%20AM.png": {
     "image/png": "[encoded data removed]"
    }
   },
   "cell_type": "markdown",
   "metadata": {},
   "source": [
    "**(1)\t The bitwise NOT (~ a):**\n",
    "\n",
    "**RULE:** If a is 0 or 1 then NOT a is 1 or 0.\n",
    "\n",
    "For example, if a = 7 i.e.00000111 then ~ a will get the bit pattern `11111000`.\n",
    "\n",
    "\n",
    "**(2)\tThe bitwise AND (a&b):**\n",
    "\n",
    "**RULE:** If both a, b are 1 then a&b will get the value 1 otherwise it will get the value 0.\n",
    "\n",
    "For example, if a = 42 and b = 10 then using bitwise patterns of 42, 10 and above rule we get:\n",
    "\n",
    "![Screenshot%202021-11-10%20at%208.50.49%20AM.png](attachment:Screenshot%202021-11-10%20at%208.50.49%20AM.png)\n"
   ]
  },
  {
   "cell_type": "code",
   "execution_count": 19,
   "metadata": {},
   "outputs": [
    {
     "name": "stdout",
     "output_type": "stream",
     "text": [
      "~a = -8\n"
     ]
    }
   ],
   "source": [
    "# Bitwise NOT operation \n",
    "a=7\n",
    "println(\"~a = \", ~ a)"
   ]
  },
  {
   "attachments": {
    "Screenshot%202021-11-10%20at%208.56.01%20AM.png": {
     "image/png": "[encoded data removed]"
    }
   },
   "cell_type": "markdown",
   "metadata": {},
   "source": [
    "**(3)\tThe bitwise OR (a | b):**\n",
    "\n",
    "**RULE:** If both a, b are 0 then a| b will get the value 0 otherwise it will get the value 1.\n",
    "\n",
    "For example, if a = 42 and b = 10 then using bitwise patterns of 42, 10 and above rule we get:\n",
    "\n",
    "![Screenshot%202021-11-10%20at%208.56.01%20AM.png](attachment:Screenshot%202021-11-10%20at%208.56.01%20AM.png)\n",
    "\n",
    "\n",
    "\n",
    "\n"
   ]
  },
  {
   "cell_type": "code",
   "execution_count": 22,
   "metadata": {},
   "outputs": [
    {
     "name": "stdout",
     "output_type": "stream",
     "text": [
      "a&b =10\n",
      "a| b = 42\n"
     ]
    }
   ],
   "source": [
    "# Bitwise AND operation \n",
    "a=42\n",
    "b=10\n",
    "println(\"a&b =\",a&b)\n",
    "\n",
    "# Bitwise OR operation\n",
    "println(\"a| b = \", a | b)"
   ]
  },
  {
   "attachments": {
    "Screenshot%202021-11-10%20at%209.03.09%20AM.png": {
     "image/png": "[encoded data removed]"
    }
   },
   "cell_type": "markdown",
   "metadata": {},
   "source": [
    "**(4) The bitwise exclusive OR (XOR):**\n",
    "\n",
    "**RULE:** If one operand is 1 then we get the value 1 otherwise the value is 0.\n",
    "\n",
    "For example, if a = 42 and b = 10 then using bitwise patterns of 42, 10 and above rule we get:\n",
    "\n",
    "\n",
    "![Screenshot%202021-11-10%20at%209.03.09%20AM.png](attachment:Screenshot%202021-11-10%20at%209.03.09%20AM.png)\n",
    "\n",
    "\n",
    "\n"
   ]
  },
  {
   "cell_type": "code",
   "execution_count": 23,
   "metadata": {},
   "outputs": [
    {
     "name": "stdout",
     "output_type": "stream",
     "text": [
      "a ⊻ b = 32\n"
     ]
    }
   ],
   "source": [
    "# Bitwise XOR operation\n",
    "println(\"a ⊻ b = \", a ⊻ b)"
   ]
  },
  {
   "cell_type": "code",
   "execution_count": 25,
   "metadata": {},
   "outputs": [
    {
     "name": "stdout",
     "output_type": "stream",
     "text": [
      "xor(a,b) = 32\n"
     ]
    }
   ],
   "source": [
    "# One can use xor also as follows\n",
    "println(\"xor(a,b) = \", xor(a,b))\n"
   ]
  },
  {
   "cell_type": "markdown",
   "metadata": {},
   "source": [
    "**(5)\tShifting numbers:**"
   ]
  },
  {
   "cell_type": "markdown",
   "metadata": {},
   "source": [
    "**(a) Shifting positive numbers:**"
   ]
  },
  {
   "cell_type": "markdown",
   "metadata": {},
   "source": [
    "**(1)** The right shift operator (<<) shifts all the bits to the right specified number of times and inserting zeros in the position of unused bits. The Syntax is:\n",
    "\n",
    "*`value > > no`* \n",
    "\n",
    "Where bit pattern of the value is shifted to no number of positions to the right. \n",
    "\n",
    "For instance, consider"
   ]
  },
  {
   "cell_type": "code",
   "execution_count": 3,
   "metadata": {},
   "outputs": [
    {
     "name": "stdout",
     "output_type": "stream",
     "text": [
      "a>>3 = 10\n"
     ]
    }
   ],
   "source": [
    "a=80\n",
    "a=a>>3\n",
    "println(\"a>>3 = \", a)"
   ]
  },
  {
   "cell_type": "markdown",
   "metadata": {},
   "source": [
    "Now let us undestand how we got *`a`*.\n",
    "\n",
    "We know that the bit pattern of 80 is:\n",
    "    \n",
    "  \n",
    " `0\t 1\t0\t1\t0\t0\t0\t0`\n",
    " \n",
    " \n",
    " \n",
    " 80>>3 means shifting bit pattern of 80 by 3 places to the right so we get,\n",
    " \n",
    "`0  0\t 0\t 0\t0\t1\t0\t1    0`\n",
    " \n",
    " This is equivalent to 10.\n",
    " \n"
   ]
  },
  {
   "cell_type": "markdown",
   "metadata": {},
   "source": [
    "**(2)**\tThe left shift operator (>>) shifts all the bits to the left specified number of\n",
    "times and inserting zeros in the position of unused bits. The general format is:\n",
    "\n",
    "*`value > > no`* \n",
    "\n",
    "Where bit pattern of the value is shifted to no number of positions to the left. \n",
    "\n",
    "For instance, consider\n"
   ]
  },
  {
   "cell_type": "code",
   "execution_count": 4,
   "metadata": {},
   "outputs": [
    {
     "name": "stdout",
     "output_type": "stream",
     "text": [
      "a<<3 = 640\n"
     ]
    }
   ],
   "source": [
    "a=80\n",
    "a=a<<3\n",
    "println(\"a<<3 = \", a)"
   ]
  },
  {
   "cell_type": "markdown",
   "metadata": {},
   "source": [
    "Now let us see how we got new value of a.\n",
    "\n",
    "We know that the bit pattern of 80 is:\n",
    "\n",
    "\n",
    "`0\t1\t0\t1\t0\t0\t0\t0`\n",
    "\n",
    "\n",
    "*`80<<3`* means shifting bit pattern of 80 by 3 places to the left so we get,\n",
    "\n",
    "`1\t0\t0\t0\t0\t0\t0\t0`\n",
    "\n",
    "\n",
    "This is equivalent to 640."
   ]
  },
  {
   "cell_type": "markdown",
   "metadata": {},
   "source": [
    "**(b)  Shifting negative numbers:**\n",
    "\n",
    "\n",
    "The left or right shift operator shifts all the bits to the left or right specified number of times and inserting 1’s in the position of unused bits. For example,\n"
   ]
  },
  {
   "cell_type": "markdown",
   "metadata": {},
   "source": [
    "\n",
    "**(i)**\tThe result of `– 8 >> 1` is found as follows: We know that the bit pattern of `8` is\n",
    "\n",
    "`0\t0\t0\t0\t1\t0\t0\t0`\n",
    "\n",
    "The bit pattern of `– 8` is:\n",
    "\n",
    "`1\t1\t1\t1\t1\t0\t0\t0`\n",
    " \n",
    "After shifting by 1 i.e.` – 8 >> 1` we get,\n",
    "\n",
    "\n",
    "`1\t1\t1\t1\t1\t1\t0\t0`\n",
    "\n",
    "This is equivalent to `– 8 /2 = - 4`\n",
    "\n",
    "Check with the code below:\n"
   ]
  },
  {
   "cell_type": "code",
   "execution_count": 8,
   "metadata": {},
   "outputs": [
    {
     "name": "stdout",
     "output_type": "stream",
     "text": [
      "a>>1 = -4\n"
     ]
    }
   ],
   "source": [
    "a=-8\n",
    "a=a>>1\n",
    "println(\"a>>1 = \", a)"
   ]
  },
  {
   "cell_type": "markdown",
   "metadata": {},
   "source": [
    "**(ii)** The result of `– 8 << 1` is found as follows: We know that the bit pattern of `8` is\n",
    "\n",
    "\n",
    "`0\t0\t0\t0\t1\t0\t0\t0`\n",
    "\n",
    "The bit pattern of `– 8` is:\n",
    "\n",
    "`1\t1\t1\t1\t1\t0\t0\t0`\n",
    "\n",
    "After shifting by 1 i.e. `– 8 << 1` we get,\n",
    "\n",
    "\n",
    "`1\t1\t1\t1\t0\t0\t0\t1`\n",
    "\n",
    "This is equivalent to `– 8*2 = - 16`.\n",
    "\n",
    "Check with the code below:\n"
   ]
  },
  {
   "cell_type": "code",
   "execution_count": 9,
   "metadata": {},
   "outputs": [
    {
     "name": "stdout",
     "output_type": "stream",
     "text": [
      "a<<1 = -16\n"
     ]
    }
   ],
   "source": [
    "a=-8\n",
    "a=a<<1\n",
    "println(\"a<<1 = \", a)"
   ]
  },
  {
   "cell_type": "markdown",
   "metadata": {},
   "source": [
    "<hr style=\"border:2px solid grey\"> </hr>"
   ]
  },
  {
   "cell_type": "code",
   "execution_count": null,
   "metadata": {},
   "outputs": [],
   "source": []
  }
 ],
 "metadata": {
  "kernelspec": {
   "display_name": "Julia 1.6.1",
   "language": "julia",
   "name": "julia-1.6"
  },
  "language_info": {
   "file_extension": ".jl",
   "mimetype": "application/julia",
   "name": "julia",
   "version": "1.6.1"
  },
  "toc": {
   "base_numbering": 1,
   "nav_menu": {},
   "number_sections": false,
   "sideBar": true,
   "skip_h1_title": false,
   "title_cell": "Table of Contents",
   "title_sidebar": "Contents",
   "toc_cell": false,
   "toc_position": {},
   "toc_section_display": true,
   "toc_window_display": false
  }
 },
 "nbformat": 4,
 "nbformat_minor": 4
}
