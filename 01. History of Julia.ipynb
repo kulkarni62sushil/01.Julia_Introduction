{
 "cells": [
  {
   "cell_type": "markdown",
   "metadata": {},
   "source": [
    "<h1 align='center' style='color:blue'> 01. History of Julia </h1>\n"
   ]
  },
  {
   "attachments": {
    "Julia.webp": {
     "image/webp": "[encoded data removed]"
    }
   },
   "cell_type": "markdown",
   "metadata": {},
   "source": [
    "![Julia.webp](attachment:Julia.webp)"
   ]
  },
  {
   "cell_type": "markdown",
   "metadata": {},
   "source": [
    "## 1.1 What is Julia ?"
   ]
  },
  {
   "cell_type": "markdown",
   "metadata": {},
   "source": [
    "Julia is a high-level, high-performance,high-level,fast, dynamic and general-purpose language. Julia is best \n",
    "suited for numerical analysis and computational science.\n",
    "\n",
    "Around 2009,Jeff Bezanson, Stefan Karpinski, Viral B. Shah, and Alan Edelman began developing a free language \n",
    "called `Julia`. In 2012, the team launched a website with a blog post explaining the language's mission. In an interview with `InfoWorld`. Karpinski said of the name **Julia**:\n",
    "\n",
    "                           \"There's no good reason, really. It just seemed like a pretty name.\"\n",
    "                           \n",
    "Bezanson said he chose the name on the recommendation of a friend, then years later wrote:\n",
    "\n",
    "                             \"julia stands for “Jeff’s uncommon lisp is automated ?\"\n",
    "                             \n",
    "As of 2020 \"Julia has been downloaded by users at more than 10,000 companies and is used at more than 1,500 universities\" with over 29 million downloads.\n",
    "\n"
   ]
  },
  {
   "cell_type": "markdown",
   "metadata": {},
   "source": [
    "## 1.2. Features of Julia ##"
   ]
  },
  {
   "cell_type": "markdown",
   "metadata": {},
   "source": [
    "Julia is really good at scientific computing but is not restricted to just that, as it can also be used for web and general purpose programming. Some of Julia's features are mentioned as follows:"
   ]
  },
  {
   "cell_type": "markdown",
   "metadata": {},
   "source": [
    "### Simple and easy to learn\n",
    "\n",
    "Julia has a very simple and elegant syntax. It is much easier to read and write Julia programs as compared to other languages like C, C++,Java or Python.\n",
    "\n",
    "Due to this reason, many beginners are introduced to programming with Julia as their first programming language.\n",
    "\n",
    "### Free and open-source\n",
    "\n",
    "You can freely use and distribute Julia programs even for commercial use. As it is open-source, you can even change Julia's source code to fit your use case.\n",
    "\n",
    "### Portability\n",
    "\n",
    "A single Julia program can run on different platforms without any change in source code. It runs on almost all platforms including Windows, Mac OS X, and Linux.\n",
    "\n",
    "### Extensible and Embeddable\n",
    "\n",
    "You can combine Julia code with other programming languages like C or Java or ython to increase efficiency. This allows high performance and scripting capabilities that other languages do not provide out of the box except Python.\n",
    "\n",
    "### High-Level Interpreted Language\n",
    "\n",
    "Julia itself handles tasks like memory management and garbage collection. So unlike C or C++, you don't have to worry about system architecture or any other lower-level operations.\n",
    "\n",
    "### Rich library and large community\n",
    "\n",
    "Julia has numerous reliable built-in libraries. Python programmers have developed tons of free and open-source libraries, so you don't have to code everything by yourself.\n",
    "\n",
    "The Julia community is very large and evergrowing. If you encounter errors while programming in Julia , it's like that it has already been asked and solved by someone in this community.\n"
   ]
  },
  {
   "cell_type": "markdown",
   "metadata": {},
   "source": [
    "## 1.3. Compile Julia Program"
   ]
  },
  {
   "cell_type": "markdown",
   "metadata": {},
   "source": [
    "Low Level Virtual Machine (LLVM) is a set of `compiler` and `toolchain` technologies, which can be used to develop a front end for any programming language and a back end for any instruction set architecture. LLVM is designed around a language-independent intermediate representation (IR) that serves as a portable, high-level assembly language that can be optimized with a variety of transformations over multiple passes.\n",
    "\n",
    "Julia uses the LLVM compiler framework behind the scenes to translate very simple and dynamic syntax into machine code. This happens in two main steps. \n",
    "\n",
    "* The first step is precompilation, before final code execution, and what may be surprising this it actually runs the code and stores some precompilation effects in the cache. It makes runtime faster but slower building – usually this is an acceptable cost.  \n",
    "\n",
    "* The second step occurs in runtime. The compiler generates code just before execution based on runtime types and static code analysis. \n",
    "\n",
    "Thus, Julia works in the same way as C or C++. That’s why Julia compiler is a just-ahead-of-time compiler, and that’s why Julia can run near as fast as C in many cases while remaining a dynamic language like Python.  \n"
   ]
  },
  {
   "cell_type": "markdown",
   "metadata": {},
   "source": [
    "## 1.4. Read-eval-print loop"
   ]
  },
  {
   "cell_type": "markdown",
   "metadata": {},
   "source": [
    "Read-eval-print loop (REPL) is an interactive command line that can be found in many modern programming languages. But in the case of Julia, the REPL can be used as the real heart of the entire development process. It lets you manage virtual environments, offers a special syntax for the package manager, documentation, and system shell interactions, allows you to test any part of your code, the language, libraries, and many more. \n"
   ]
  },
  {
   "cell_type": "markdown",
   "metadata": {},
   "source": [
    "## 1.5. Friendly syntax  "
   ]
  },
  {
   "cell_type": "markdown",
   "metadata": {},
   "source": [
    "The syntax is similar to MATLAB and Python but also takes the best of other languages like LISP. Scientists will appreciate that Unicode characters can be used directly in source code, for example, this equation: \n",
    "\n",
    "                          f(X,u,σᵀ∇u,p,t) = -λ * sum(σᵀ∇u.^2)\n",
    "                          \n",
    "is a perfectly valid Julia code. \n"
   ]
  },
  {
   "cell_type": "markdown",
   "metadata": {},
   "source": [
    "### In the next notebook we will learn how to install `Julia`"
   ]
  },
  {
   "cell_type": "code",
   "execution_count": null,
   "metadata": {},
   "outputs": [],
   "source": []
  }
 ],
 "metadata": {
  "gist": {
   "data": {
    "description": "Julia_Lectures/Untitled1.ipynb",
    "public": true
   },
   "id": ""
  },
  "kernelspec": {
   "display_name": "Julia 1.6.1",
   "language": "julia",
   "name": "julia-1.6"
  },
  "language_info": {
   "file_extension": ".jl",
   "mimetype": "application/julia",
   "name": "julia",
   "version": "1.6.1"
  },
  "toc": {
   "base_numbering": "1.",
   "nav_menu": {},
   "number_sections": false,
   "sideBar": true,
   "skip_h1_title": false,
   "title_cell": "Table of Contents",
   "title_sidebar": "Contents",
   "toc_cell": false,
   "toc_position": {},
   "toc_section_display": true,
   "toc_window_display": false
  }
 },
 "nbformat": 4,
 "nbformat_minor": 4
}
